{
 "cells": [
  {
   "cell_type": "code",
   "execution_count": 1,
   "metadata": {},
   "outputs": [],
   "source": [
    "# basic configuration, put these lines at the top of each notebook\n",
    "%load_ext autoreload\n",
    "%autoreload 2\n",
    "%matplotlib inline"
   ]
  },
  {
   "cell_type": "code",
   "execution_count": 2,
   "metadata": {},
   "outputs": [
    {
     "name": "stdout",
     "output_type": "stream",
     "text": [
      "ln: ./data: File exists\r\n"
     ]
    }
   ],
   "source": [
    "!ln -s ../data"
   ]
  },
  {
   "cell_type": "code",
   "execution_count": 3,
   "metadata": {},
   "outputs": [],
   "source": [
    "import pandas as pd\n",
    "import matplotlib.pyplot as plt"
   ]
  },
  {
   "cell_type": "code",
   "execution_count": 4,
   "metadata": {},
   "outputs": [],
   "source": [
    "plt.rcParams[\"figure.figsize\"] = (10, 6)\n",
    "pd.options.display.max_columns = None\n",
    "pd.set_option(\"display.precision\", 2)\n",
    "pd.options.display.max_rows = 100"
   ]
  },
  {
   "cell_type": "code",
   "execution_count": 5,
   "metadata": {},
   "outputs": [
    {
     "data": {
      "text/plain": [
       "(1338, 7)"
      ]
     },
     "execution_count": 5,
     "metadata": {},
     "output_type": "execute_result"
    }
   ],
   "source": [
    "data = pd.read_csv(\"data/insurance.csv\")\n",
    "data.shape"
   ]
  },
  {
   "cell_type": "code",
   "execution_count": 6,
   "metadata": {},
   "outputs": [
    {
     "data": {
      "text/html": [
       "<div>\n",
       "<style scoped>\n",
       "    .dataframe tbody tr th:only-of-type {\n",
       "        vertical-align: middle;\n",
       "    }\n",
       "\n",
       "    .dataframe tbody tr th {\n",
       "        vertical-align: top;\n",
       "    }\n",
       "\n",
       "    .dataframe thead th {\n",
       "        text-align: right;\n",
       "    }\n",
       "</style>\n",
       "<table border=\"1\" class=\"dataframe\">\n",
       "  <thead>\n",
       "    <tr style=\"text-align: right;\">\n",
       "      <th></th>\n",
       "      <th>age</th>\n",
       "      <th>sex</th>\n",
       "      <th>bmi</th>\n",
       "      <th>children</th>\n",
       "      <th>smoker</th>\n",
       "      <th>region</th>\n",
       "      <th>charges</th>\n",
       "    </tr>\n",
       "  </thead>\n",
       "  <tbody>\n",
       "    <tr>\n",
       "      <th>0</th>\n",
       "      <td>19</td>\n",
       "      <td>female</td>\n",
       "      <td>27.90</td>\n",
       "      <td>0</td>\n",
       "      <td>yes</td>\n",
       "      <td>southwest</td>\n",
       "      <td>16884.92</td>\n",
       "    </tr>\n",
       "    <tr>\n",
       "      <th>1</th>\n",
       "      <td>18</td>\n",
       "      <td>male</td>\n",
       "      <td>33.77</td>\n",
       "      <td>1</td>\n",
       "      <td>no</td>\n",
       "      <td>southeast</td>\n",
       "      <td>1725.55</td>\n",
       "    </tr>\n",
       "    <tr>\n",
       "      <th>2</th>\n",
       "      <td>28</td>\n",
       "      <td>male</td>\n",
       "      <td>33.00</td>\n",
       "      <td>3</td>\n",
       "      <td>no</td>\n",
       "      <td>southeast</td>\n",
       "      <td>4449.46</td>\n",
       "    </tr>\n",
       "    <tr>\n",
       "      <th>3</th>\n",
       "      <td>33</td>\n",
       "      <td>male</td>\n",
       "      <td>22.70</td>\n",
       "      <td>0</td>\n",
       "      <td>no</td>\n",
       "      <td>northwest</td>\n",
       "      <td>21984.47</td>\n",
       "    </tr>\n",
       "    <tr>\n",
       "      <th>4</th>\n",
       "      <td>32</td>\n",
       "      <td>male</td>\n",
       "      <td>28.88</td>\n",
       "      <td>0</td>\n",
       "      <td>no</td>\n",
       "      <td>northwest</td>\n",
       "      <td>3866.86</td>\n",
       "    </tr>\n",
       "  </tbody>\n",
       "</table>\n",
       "</div>"
      ],
      "text/plain": [
       "   age     sex    bmi  children smoker     region   charges\n",
       "0   19  female  27.90         0    yes  southwest  16884.92\n",
       "1   18    male  33.77         1     no  southeast   1725.55\n",
       "2   28    male  33.00         3     no  southeast   4449.46\n",
       "3   33    male  22.70         0     no  northwest  21984.47\n",
       "4   32    male  28.88         0     no  northwest   3866.86"
      ]
     },
     "execution_count": 6,
     "metadata": {},
     "output_type": "execute_result"
    }
   ],
   "source": [
    "data.head()"
   ]
  },
  {
   "cell_type": "code",
   "execution_count": 7,
   "metadata": {},
   "outputs": [
    {
     "data": {
      "text/plain": [
       "age         0\n",
       "sex         0\n",
       "bmi         0\n",
       "children    0\n",
       "smoker      0\n",
       "region      0\n",
       "charges     0\n",
       "dtype: int64"
      ]
     },
     "execution_count": 7,
     "metadata": {},
     "output_type": "execute_result"
    }
   ],
   "source": [
    "data.isnull().sum()"
   ]
  },
  {
   "cell_type": "code",
   "execution_count": 8,
   "metadata": {},
   "outputs": [
    {
     "data": {
      "text/plain": [
       "<matplotlib.axes._subplots.AxesSubplot at 0x7f900bcac208>"
      ]
     },
     "execution_count": 8,
     "metadata": {},
     "output_type": "execute_result"
    },
    {
     "data": {
      "image/png": "[encoded data removed]",
      "text/plain": [
       "<Figure size 720x432 with 1 Axes>"
      ]
     },
     "metadata": {
      "needs_background": "light"
     },
     "output_type": "display_data"
    }
   ],
   "source": [
    "data.age.hist()"
   ]
  },
  {
   "cell_type": "code",
   "execution_count": 9,
   "metadata": {},
   "outputs": [
    {
     "data": {
      "text/plain": [
       "<matplotlib.axes._subplots.AxesSubplot at 0x7f900bd8d4e0>"
      ]
     },
     "execution_count": 9,
     "metadata": {},
     "output_type": "execute_result"
    },
    {
     "data": {
      "image/png": "[encoded data removed]",
      "text/plain": [
       "<Figure size 720x432 with 1 Axes>"
      ]
     },
     "metadata": {
      "needs_background": "light"
     },
     "output_type": "display_data"
    }
   ],
   "source": [
    "data.bmi.hist()"
   ]
  },
  {
   "cell_type": "code",
   "execution_count": 10,
   "metadata": {},
   "outputs": [
    {
     "data": {
      "text/plain": [
       "<matplotlib.axes._subplots.AxesSubplot at 0x7f900bf10d30>"
      ]
     },
     "execution_count": 10,
     "metadata": {},
     "output_type": "execute_result"
    },
    {
     "data": {
      "image/png": "[encoded data removed]",
      "text/plain": [
       "<Figure size 720x432 with 1 Axes>"
      ]
     },
     "metadata": {
      "needs_background": "light"
     },
     "output_type": "display_data"
    }
   ],
   "source": [
    "data.children.hist()"
   ]
  },
  {
   "cell_type": "code",
   "execution_count": 11,
   "metadata": {},
   "outputs": [
    {
     "data": {
      "text/plain": [
       "<matplotlib.axes._subplots.AxesSubplot at 0x7f900c1ba390>"
      ]
     },
     "execution_count": 11,
     "metadata": {},
     "output_type": "execute_result"
    },
    {
     "data": {
      "image/png": "[encoded data removed]",
      "text/plain": [
       "<Figure size 720x432 with 1 Axes>"
      ]
     },
     "metadata": {
      "needs_background": "light"
     },
     "output_type": "display_data"
    }
   ],
   "source": [
    "data.charges.hist()"
   ]
  },
  {
   "cell_type": "code",
   "execution_count": 12,
   "metadata": {},
   "outputs": [
    {
     "data": {
      "text/plain": [
       "<matplotlib.axes._subplots.AxesSubplot at 0x7f900c31d278>"
      ]
     },
     "execution_count": 12,
     "metadata": {},
     "output_type": "execute_result"
    },
    {
     "data": {
      "image/png": "[encoded data removed]",
      "text/plain": [
       "<Figure size 720x432 with 1 Axes>"
      ]
     },
     "metadata": {
      "needs_background": "light"
     },
     "output_type": "display_data"
    }
   ],
   "source": [
    "data.sex.value_counts(normalize=True).plot(kind='bar')"
   ]
  },
  {
   "cell_type": "code",
   "execution_count": 13,
   "metadata": {},
   "outputs": [
    {
     "data": {
      "text/plain": [
       "<matplotlib.axes._subplots.AxesSubplot at 0x7f900c3056d8>"
      ]
     },
     "execution_count": 13,
     "metadata": {},
     "output_type": "execute_result"
    },
    {
     "data": {
      "image/png": "[encoded data removed]",
      "text/plain": [
       "<Figure size 720x432 with 1 Axes>"
      ]
     },
     "metadata": {
      "needs_background": "light"
     },
     "output_type": "display_data"
    }
   ],
   "source": [
    "data.smoker.value_counts(normalize=True).plot(kind='bar')"
   ]
  },
  {
   "cell_type": "code",
   "execution_count": 14,
   "metadata": {},
   "outputs": [
    {
     "data": {
      "text/plain": [
       "<matplotlib.axes._subplots.AxesSubplot at 0x7f900c4bb518>"
      ]
     },
     "execution_count": 14,
     "metadata": {},
     "output_type": "execute_result"
    },
    {
     "data": {
      "image/png": "[encoded data removed]",
      "text/plain": [
       "<Figure size 720x432 with 1 Axes>"
      ]
     },
     "metadata": {
      "needs_background": "light"
     },
     "output_type": "display_data"
    }
   ],
   "source": [
    "data.region.value_counts(normalize=True).plot(kind='bar')"
   ]
  },
  {
   "cell_type": "code",
   "execution_count": 15,
   "metadata": {},
   "outputs": [
    {
     "data": {
      "text/html": [
       "<div>\n",
       "<style scoped>\n",
       "    .dataframe tbody tr th:only-of-type {\n",
       "        vertical-align: middle;\n",
       "    }\n",
       "\n",
       "    .dataframe tbody tr th {\n",
       "        vertical-align: top;\n",
       "    }\n",
       "\n",
       "    .dataframe thead th {\n",
       "        text-align: right;\n",
       "    }\n",
       "</style>\n",
       "<table border=\"1\" class=\"dataframe\">\n",
       "  <thead>\n",
       "    <tr style=\"text-align: right;\">\n",
       "      <th></th>\n",
       "      <th>age</th>\n",
       "      <th>bmi</th>\n",
       "      <th>children</th>\n",
       "      <th>charges</th>\n",
       "      <th>sex_female</th>\n",
       "      <th>sex_male</th>\n",
       "      <th>smoker_no</th>\n",
       "      <th>smoker_yes</th>\n",
       "      <th>region_northeast</th>\n",
       "      <th>region_northwest</th>\n",
       "      <th>region_southeast</th>\n",
       "      <th>region_southwest</th>\n",
       "    </tr>\n",
       "  </thead>\n",
       "  <tbody>\n",
       "    <tr>\n",
       "      <th>0</th>\n",
       "      <td>19</td>\n",
       "      <td>27.90</td>\n",
       "      <td>0</td>\n",
       "      <td>16884.92</td>\n",
       "      <td>1</td>\n",
       "      <td>0</td>\n",
       "      <td>0</td>\n",
       "      <td>1</td>\n",
       "      <td>0</td>\n",
       "      <td>0</td>\n",
       "      <td>0</td>\n",
       "      <td>1</td>\n",
       "    </tr>\n",
       "    <tr>\n",
       "      <th>1</th>\n",
       "      <td>18</td>\n",
       "      <td>33.77</td>\n",
       "      <td>1</td>\n",
       "      <td>1725.55</td>\n",
       "      <td>0</td>\n",
       "      <td>1</td>\n",
       "      <td>1</td>\n",
       "      <td>0</td>\n",
       "      <td>0</td>\n",
       "      <td>0</td>\n",
       "      <td>1</td>\n",
       "      <td>0</td>\n",
       "    </tr>\n",
       "    <tr>\n",
       "      <th>2</th>\n",
       "      <td>28</td>\n",
       "      <td>33.00</td>\n",
       "      <td>3</td>\n",
       "      <td>4449.46</td>\n",
       "      <td>0</td>\n",
       "      <td>1</td>\n",
       "      <td>1</td>\n",
       "      <td>0</td>\n",
       "      <td>0</td>\n",
       "      <td>0</td>\n",
       "      <td>1</td>\n",
       "      <td>0</td>\n",
       "    </tr>\n",
       "    <tr>\n",
       "      <th>3</th>\n",
       "      <td>33</td>\n",
       "      <td>22.70</td>\n",
       "      <td>0</td>\n",
       "      <td>21984.47</td>\n",
       "      <td>0</td>\n",
       "      <td>1</td>\n",
       "      <td>1</td>\n",
       "      <td>0</td>\n",
       "      <td>0</td>\n",
       "      <td>1</td>\n",
       "      <td>0</td>\n",
       "      <td>0</td>\n",
       "    </tr>\n",
       "    <tr>\n",
       "      <th>4</th>\n",
       "      <td>32</td>\n",
       "      <td>28.88</td>\n",
       "      <td>0</td>\n",
       "      <td>3866.86</td>\n",
       "      <td>0</td>\n",
       "      <td>1</td>\n",
       "      <td>1</td>\n",
       "      <td>0</td>\n",
       "      <td>0</td>\n",
       "      <td>1</td>\n",
       "      <td>0</td>\n",
       "      <td>0</td>\n",
       "    </tr>\n",
       "  </tbody>\n",
       "</table>\n",
       "</div>"
      ],
      "text/plain": [
       "   age    bmi  children   charges  sex_female  sex_male  smoker_no  \\\n",
       "0   19  27.90         0  16884.92           1         0          0   \n",
       "1   18  33.77         1   1725.55           0         1          1   \n",
       "2   28  33.00         3   4449.46           0         1          1   \n",
       "3   33  22.70         0  21984.47           0         1          1   \n",
       "4   32  28.88         0   3866.86           0         1          1   \n",
       "\n",
       "   smoker_yes  region_northeast  region_northwest  region_southeast  \\\n",
       "0           1                 0                 0                 0   \n",
       "1           0                 0                 0                 1   \n",
       "2           0                 0                 0                 1   \n",
       "3           0                 0                 1                 0   \n",
       "4           0                 0                 1                 0   \n",
       "\n",
       "   region_southwest  \n",
       "0                 1  \n",
       "1                 0  \n",
       "2                 0  \n",
       "3                 0  \n",
       "4                 0  "
      ]
     },
     "execution_count": 15,
     "metadata": {},
     "output_type": "execute_result"
    }
   ],
   "source": [
    "cat_cols = ['sex', 'smoker', 'region']\n",
    "data = pd.get_dummies(data, prefix=cat_cols, columns=cat_cols)\n",
    "data.head()"
   ]
  },
  {
   "cell_type": "code",
   "execution_count": 16,
   "metadata": {},
   "outputs": [
    {
     "data": {
      "text/html": [
       "<div>\n",
       "<style scoped>\n",
       "    .dataframe tbody tr th:only-of-type {\n",
       "        vertical-align: middle;\n",
       "    }\n",
       "\n",
       "    .dataframe tbody tr th {\n",
       "        vertical-align: top;\n",
       "    }\n",
       "\n",
       "    .dataframe thead th {\n",
       "        text-align: right;\n",
       "    }\n",
       "</style>\n",
       "<table border=\"1\" class=\"dataframe\">\n",
       "  <thead>\n",
       "    <tr style=\"text-align: right;\">\n",
       "      <th></th>\n",
       "      <th>age</th>\n",
       "      <th>bmi</th>\n",
       "      <th>children</th>\n",
       "      <th>charges</th>\n",
       "      <th>sex</th>\n",
       "      <th>smoker</th>\n",
       "      <th>region_northeast</th>\n",
       "      <th>region_northwest</th>\n",
       "      <th>region_southeast</th>\n",
       "      <th>region_southwest</th>\n",
       "    </tr>\n",
       "  </thead>\n",
       "  <tbody>\n",
       "    <tr>\n",
       "      <th>0</th>\n",
       "      <td>19</td>\n",
       "      <td>27.90</td>\n",
       "      <td>0</td>\n",
       "      <td>16884.92</td>\n",
       "      <td>0</td>\n",
       "      <td>1</td>\n",
       "      <td>0</td>\n",
       "      <td>0</td>\n",
       "      <td>0</td>\n",
       "      <td>1</td>\n",
       "    </tr>\n",
       "    <tr>\n",
       "      <th>1</th>\n",
       "      <td>18</td>\n",
       "      <td>33.77</td>\n",
       "      <td>1</td>\n",
       "      <td>1725.55</td>\n",
       "      <td>1</td>\n",
       "      <td>0</td>\n",
       "      <td>0</td>\n",
       "      <td>0</td>\n",
       "      <td>1</td>\n",
       "      <td>0</td>\n",
       "    </tr>\n",
       "    <tr>\n",
       "      <th>2</th>\n",
       "      <td>28</td>\n",
       "      <td>33.00</td>\n",
       "      <td>3</td>\n",
       "      <td>4449.46</td>\n",
       "      <td>1</td>\n",
       "      <td>0</td>\n",
       "      <td>0</td>\n",
       "      <td>0</td>\n",
       "      <td>1</td>\n",
       "      <td>0</td>\n",
       "    </tr>\n",
       "    <tr>\n",
       "      <th>3</th>\n",
       "      <td>33</td>\n",
       "      <td>22.70</td>\n",
       "      <td>0</td>\n",
       "      <td>21984.47</td>\n",
       "      <td>1</td>\n",
       "      <td>0</td>\n",
       "      <td>0</td>\n",
       "      <td>1</td>\n",
       "      <td>0</td>\n",
       "      <td>0</td>\n",
       "    </tr>\n",
       "    <tr>\n",
       "      <th>4</th>\n",
       "      <td>32</td>\n",
       "      <td>28.88</td>\n",
       "      <td>0</td>\n",
       "      <td>3866.86</td>\n",
       "      <td>1</td>\n",
       "      <td>0</td>\n",
       "      <td>0</td>\n",
       "      <td>1</td>\n",
       "      <td>0</td>\n",
       "      <td>0</td>\n",
       "    </tr>\n",
       "  </tbody>\n",
       "</table>\n",
       "</div>"
      ],
      "text/plain": [
       "   age    bmi  children   charges  sex  smoker  region_northeast  \\\n",
       "0   19  27.90         0  16884.92    0       1                 0   \n",
       "1   18  33.77         1   1725.55    1       0                 0   \n",
       "2   28  33.00         3   4449.46    1       0                 0   \n",
       "3   33  22.70         0  21984.47    1       0                 0   \n",
       "4   32  28.88         0   3866.86    1       0                 0   \n",
       "\n",
       "   region_northwest  region_southeast  region_southwest  \n",
       "0                 0                 0                 1  \n",
       "1                 0                 1                 0  \n",
       "2                 0                 1                 0  \n",
       "3                 1                 0                 0  \n",
       "4                 1                 0                 0  "
      ]
     },
     "execution_count": 16,
     "metadata": {},
     "output_type": "execute_result"
    }
   ],
   "source": [
    "data = data.drop(columns=['sex_female', 'smoker_no'])\n",
    "data = data.rename(columns={'smoker_yes': 'smoker', 'sex_male': 'sex'})\n",
    "data.head()"
   ]
  },
  {
   "cell_type": "code",
   "execution_count": 17,
   "metadata": {},
   "outputs": [
    {
     "data": {
      "text/html": [
       "<style  type=\"text/css\" >\n",
       "    #T_c0c5bad4_dc71_11ea_a204_4c32759fa703row0_col0 {\n",
       "            background-color:  #b40426;\n",
       "            color:  #f1f1f1;\n",
       "        }    #T_c0c5bad4_dc71_11ea_a204_4c32759fa703row0_col1 {\n",
       "            background-color:  #81a4fb;\n",
       "            color:  #000000;\n",
       "        }    #T_c0c5bad4_dc71_11ea_a204_4c32759fa703row0_col2 {\n",
       "            background-color:  #4e68d8;\n",
       "            color:  #000000;\n",
       "        }    #T_c0c5bad4_dc71_11ea_a204_4c32759fa703row0_col3 {\n",
       "            background-color:  #a7c5fe;\n",
       "            color:  #000000;\n",
       "        }    #T_c0c5bad4_dc71_11ea_a204_4c32759fa703row0_col4 {\n",
       "            background-color:  #3b4cc0;\n",
       "            color:  #f1f1f1;\n",
       "        }    #T_c0c5bad4_dc71_11ea_a204_4c32759fa703row0_col5 {\n",
       "            background-color:  #3d50c3;\n",
       "            color:  #f1f1f1;\n",
       "        }    #T_c0c5bad4_dc71_11ea_a204_4c32759fa703row0_col6 {\n",
       "            background-color:  #90b2fe;\n",
       "            color:  #000000;\n",
       "        }    #T_c0c5bad4_dc71_11ea_a204_4c32759fa703row0_col7 {\n",
       "            background-color:  #8fb1fe;\n",
       "            color:  #000000;\n",
       "        }    #T_c0c5bad4_dc71_11ea_a204_4c32759fa703row0_col8 {\n",
       "            background-color:  #8caffe;\n",
       "            color:  #000000;\n",
       "        }    #T_c0c5bad4_dc71_11ea_a204_4c32759fa703row0_col9 {\n",
       "            background-color:  #92b4fe;\n",
       "            color:  #000000;\n",
       "        }    #T_c0c5bad4_dc71_11ea_a204_4c32759fa703row1_col0 {\n",
       "            background-color:  #6384eb;\n",
       "            color:  #000000;\n",
       "        }    #T_c0c5bad4_dc71_11ea_a204_4c32759fa703row1_col1 {\n",
       "            background-color:  #b40426;\n",
       "            color:  #f1f1f1;\n",
       "        }    #T_c0c5bad4_dc71_11ea_a204_4c32759fa703row1_col2 {\n",
       "            background-color:  #445acc;\n",
       "            color:  #f1f1f1;\n",
       "        }    #T_c0c5bad4_dc71_11ea_a204_4c32759fa703row1_col3 {\n",
       "            background-color:  #86a9fc;\n",
       "            color:  #000000;\n",
       "        }    #T_c0c5bad4_dc71_11ea_a204_4c32759fa703row1_col4 {\n",
       "            background-color:  #4e68d8;\n",
       "            color:  #000000;\n",
       "        }    #T_c0c5bad4_dc71_11ea_a204_4c32759fa703row1_col5 {\n",
       "            background-color:  #465ecf;\n",
       "            color:  #f1f1f1;\n",
       "        }    #T_c0c5bad4_dc71_11ea_a204_4c32759fa703row1_col6 {\n",
       "            background-color:  #6b8df0;\n",
       "            color:  #000000;\n",
       "        }    #T_c0c5bad4_dc71_11ea_a204_4c32759fa703row1_col7 {\n",
       "            background-color:  #6b8df0;\n",
       "            color:  #000000;\n",
       "        }    #T_c0c5bad4_dc71_11ea_a204_4c32759fa703row1_col8 {\n",
       "            background-color:  #d2dbe8;\n",
       "            color:  #000000;\n",
       "        }    #T_c0c5bad4_dc71_11ea_a204_4c32759fa703row1_col9 {\n",
       "            background-color:  #8db0fe;\n",
       "            color:  #000000;\n",
       "        }    #T_c0c5bad4_dc71_11ea_a204_4c32759fa703row2_col0 {\n",
       "            background-color:  #4e68d8;\n",
       "            color:  #000000;\n",
       "        }    #T_c0c5bad4_dc71_11ea_a204_4c32759fa703row2_col1 {\n",
       "            background-color:  #6384eb;\n",
       "            color:  #000000;\n",
       "        }    #T_c0c5bad4_dc71_11ea_a204_4c32759fa703row2_col2 {\n",
       "            background-color:  #b40426;\n",
       "            color:  #f1f1f1;\n",
       "        }    #T_c0c5bad4_dc71_11ea_a204_4c32759fa703row2_col3 {\n",
       "            background-color:  #5b7ae5;\n",
       "            color:  #000000;\n",
       "        }    #T_c0c5bad4_dc71_11ea_a204_4c32759fa703row2_col4 {\n",
       "            background-color:  #455cce;\n",
       "            color:  #f1f1f1;\n",
       "        }    #T_c0c5bad4_dc71_11ea_a204_4c32759fa703row2_col5 {\n",
       "            background-color:  #485fd1;\n",
       "            color:  #f1f1f1;\n",
       "        }    #T_c0c5bad4_dc71_11ea_a204_4c32759fa703row2_col6 {\n",
       "            background-color:  #89acfd;\n",
       "            color:  #000000;\n",
       "        }    #T_c0c5bad4_dc71_11ea_a204_4c32759fa703row2_col7 {\n",
       "            background-color:  #96b7ff;\n",
       "            color:  #000000;\n",
       "        }    #T_c0c5bad4_dc71_11ea_a204_4c32759fa703row2_col8 {\n",
       "            background-color:  #89acfd;\n",
       "            color:  #000000;\n",
       "        }    #T_c0c5bad4_dc71_11ea_a204_4c32759fa703row2_col9 {\n",
       "            background-color:  #96b7ff;\n",
       "            color:  #000000;\n",
       "        }    #T_c0c5bad4_dc71_11ea_a204_4c32759fa703row3_col0 {\n",
       "            background-color:  #a3c2fe;\n",
       "            color:  #000000;\n",
       "        }    #T_c0c5bad4_dc71_11ea_a204_4c32759fa703row3_col1 {\n",
       "            background-color:  #9dbdff;\n",
       "            color:  #000000;\n",
       "        }    #T_c0c5bad4_dc71_11ea_a204_4c32759fa703row3_col2 {\n",
       "            background-color:  #5572df;\n",
       "            color:  #000000;\n",
       "        }    #T_c0c5bad4_dc71_11ea_a204_4c32759fa703row3_col3 {\n",
       "            background-color:  #b40426;\n",
       "            color:  #f1f1f1;\n",
       "        }    #T_c0c5bad4_dc71_11ea_a204_4c32759fa703row3_col4 {\n",
       "            background-color:  #516ddb;\n",
       "            color:  #000000;\n",
       "        }    #T_c0c5bad4_dc71_11ea_a204_4c32759fa703row3_col5 {\n",
       "            background-color:  #ee8669;\n",
       "            color:  #000000;\n",
       "        }    #T_c0c5bad4_dc71_11ea_a204_4c32759fa703row3_col6 {\n",
       "            background-color:  #90b2fe;\n",
       "            color:  #000000;\n",
       "        }    #T_c0c5bad4_dc71_11ea_a204_4c32759fa703row3_col7 {\n",
       "            background-color:  #85a8fc;\n",
       "            color:  #000000;\n",
       "        }    #T_c0c5bad4_dc71_11ea_a204_4c32759fa703row3_col8 {\n",
       "            background-color:  #a2c1ff;\n",
       "            color:  #000000;\n",
       "        }    #T_c0c5bad4_dc71_11ea_a204_4c32759fa703row3_col9 {\n",
       "            background-color:  #84a7fc;\n",
       "            color:  #000000;\n",
       "        }    #T_c0c5bad4_dc71_11ea_a204_4c32759fa703row4_col0 {\n",
       "            background-color:  #3c4ec2;\n",
       "            color:  #f1f1f1;\n",
       "        }    #T_c0c5bad4_dc71_11ea_a204_4c32759fa703row4_col1 {\n",
       "            background-color:  #6e90f2;\n",
       "            color:  #000000;\n",
       "        }    #T_c0c5bad4_dc71_11ea_a204_4c32759fa703row4_col2 {\n",
       "            background-color:  #465ecf;\n",
       "            color:  #f1f1f1;\n",
       "        }    #T_c0c5bad4_dc71_11ea_a204_4c32759fa703row4_col3 {\n",
       "            background-color:  #5875e1;\n",
       "            color:  #000000;\n",
       "        }    #T_c0c5bad4_dc71_11ea_a204_4c32759fa703row4_col4 {\n",
       "            background-color:  #b40426;\n",
       "            color:  #f1f1f1;\n",
       "        }    #T_c0c5bad4_dc71_11ea_a204_4c32759fa703row4_col5 {\n",
       "            background-color:  #5b7ae5;\n",
       "            color:  #000000;\n",
       "        }    #T_c0c5bad4_dc71_11ea_a204_4c32759fa703row4_col6 {\n",
       "            background-color:  #8fb1fe;\n",
       "            color:  #000000;\n",
       "        }    #T_c0c5bad4_dc71_11ea_a204_4c32759fa703row4_col7 {\n",
       "            background-color:  #8caffe;\n",
       "            color:  #000000;\n",
       "        }    #T_c0c5bad4_dc71_11ea_a204_4c32759fa703row4_col8 {\n",
       "            background-color:  #94b6ff;\n",
       "            color:  #000000;\n",
       "        }    #T_c0c5bad4_dc71_11ea_a204_4c32759fa703row4_col9 {\n",
       "            background-color:  #8fb1fe;\n",
       "            color:  #000000;\n",
       "        }    #T_c0c5bad4_dc71_11ea_a204_4c32759fa703row5_col0 {\n",
       "            background-color:  #3b4cc0;\n",
       "            color:  #f1f1f1;\n",
       "        }    #T_c0c5bad4_dc71_11ea_a204_4c32759fa703row5_col1 {\n",
       "            background-color:  #6180e9;\n",
       "            color:  #000000;\n",
       "        }    #T_c0c5bad4_dc71_11ea_a204_4c32759fa703row5_col2 {\n",
       "            background-color:  #4358cb;\n",
       "            color:  #f1f1f1;\n",
       "        }    #T_c0c5bad4_dc71_11ea_a204_4c32759fa703row5_col3 {\n",
       "            background-color:  #ee8669;\n",
       "            color:  #000000;\n",
       "        }    #T_c0c5bad4_dc71_11ea_a204_4c32759fa703row5_col4 {\n",
       "            background-color:  #5875e1;\n",
       "            color:  #000000;\n",
       "        }    #T_c0c5bad4_dc71_11ea_a204_4c32759fa703row5_col5 {\n",
       "            background-color:  #b40426;\n",
       "            color:  #f1f1f1;\n",
       "        }    #T_c0c5bad4_dc71_11ea_a204_4c32759fa703row5_col6 {\n",
       "            background-color:  #90b2fe;\n",
       "            color:  #000000;\n",
       "        }    #T_c0c5bad4_dc71_11ea_a204_4c32759fa703row5_col7 {\n",
       "            background-color:  #85a8fc;\n",
       "            color:  #000000;\n",
       "        }    #T_c0c5bad4_dc71_11ea_a204_4c32759fa703row5_col8 {\n",
       "            background-color:  #a1c0ff;\n",
       "            color:  #000000;\n",
       "        }    #T_c0c5bad4_dc71_11ea_a204_4c32759fa703row5_col9 {\n",
       "            background-color:  #85a8fc;\n",
       "            color:  #000000;\n",
       "        }    #T_c0c5bad4_dc71_11ea_a204_4c32759fa703row6_col0 {\n",
       "            background-color:  #4257c9;\n",
       "            color:  #f1f1f1;\n",
       "        }    #T_c0c5bad4_dc71_11ea_a204_4c32759fa703row6_col1 {\n",
       "            background-color:  #3b4cc0;\n",
       "            color:  #f1f1f1;\n",
       "        }    #T_c0c5bad4_dc71_11ea_a204_4c32759fa703row6_col2 {\n",
       "            background-color:  #3b4cc0;\n",
       "            color:  #f1f1f1;\n",
       "        }    #T_c0c5bad4_dc71_11ea_a204_4c32759fa703row6_col3 {\n",
       "            background-color:  #4961d2;\n",
       "            color:  #f1f1f1;\n",
       "        }    #T_c0c5bad4_dc71_11ea_a204_4c32759fa703row6_col4 {\n",
       "            background-color:  #3f53c6;\n",
       "            color:  #f1f1f1;\n",
       "        }    #T_c0c5bad4_dc71_11ea_a204_4c32759fa703row6_col5 {\n",
       "            background-color:  #455cce;\n",
       "            color:  #f1f1f1;\n",
       "        }    #T_c0c5bad4_dc71_11ea_a204_4c32759fa703row6_col6 {\n",
       "            background-color:  #b40426;\n",
       "            color:  #f1f1f1;\n",
       "        }    #T_c0c5bad4_dc71_11ea_a204_4c32759fa703row6_col7 {\n",
       "            background-color:  #3f53c6;\n",
       "            color:  #f1f1f1;\n",
       "        }    #T_c0c5bad4_dc71_11ea_a204_4c32759fa703row6_col8 {\n",
       "            background-color:  #3b4cc0;\n",
       "            color:  #f1f1f1;\n",
       "        }    #T_c0c5bad4_dc71_11ea_a204_4c32759fa703row6_col9 {\n",
       "            background-color:  #3f53c6;\n",
       "            color:  #f1f1f1;\n",
       "        }    #T_c0c5bad4_dc71_11ea_a204_4c32759fa703row7_col0 {\n",
       "            background-color:  #4257c9;\n",
       "            color:  #f1f1f1;\n",
       "        }    #T_c0c5bad4_dc71_11ea_a204_4c32759fa703row7_col1 {\n",
       "            background-color:  #3b4cc0;\n",
       "            color:  #f1f1f1;\n",
       "        }    #T_c0c5bad4_dc71_11ea_a204_4c32759fa703row7_col2 {\n",
       "            background-color:  #485fd1;\n",
       "            color:  #f1f1f1;\n",
       "        }    #T_c0c5bad4_dc71_11ea_a204_4c32759fa703row7_col3 {\n",
       "            background-color:  #3b4cc0;\n",
       "            color:  #f1f1f1;\n",
       "        }    #T_c0c5bad4_dc71_11ea_a204_4c32759fa703row7_col4 {\n",
       "            background-color:  #3d50c3;\n",
       "            color:  #f1f1f1;\n",
       "        }    #T_c0c5bad4_dc71_11ea_a204_4c32759fa703row7_col5 {\n",
       "            background-color:  #3b4cc0;\n",
       "            color:  #f1f1f1;\n",
       "        }    #T_c0c5bad4_dc71_11ea_a204_4c32759fa703row7_col6 {\n",
       "            background-color:  #3f53c6;\n",
       "            color:  #f1f1f1;\n",
       "        }    #T_c0c5bad4_dc71_11ea_a204_4c32759fa703row7_col7 {\n",
       "            background-color:  #b40426;\n",
       "            color:  #f1f1f1;\n",
       "        }    #T_c0c5bad4_dc71_11ea_a204_4c32759fa703row7_col8 {\n",
       "            background-color:  #3b4cc0;\n",
       "            color:  #f1f1f1;\n",
       "        }    #T_c0c5bad4_dc71_11ea_a204_4c32759fa703row7_col9 {\n",
       "            background-color:  #3f53c6;\n",
       "            color:  #f1f1f1;\n",
       "        }    #T_c0c5bad4_dc71_11ea_a204_4c32759fa703row8_col0 {\n",
       "            background-color:  #3e51c5;\n",
       "            color:  #f1f1f1;\n",
       "        }    #T_c0c5bad4_dc71_11ea_a204_4c32759fa703row8_col1 {\n",
       "            background-color:  #b2ccfb;\n",
       "            color:  #000000;\n",
       "        }    #T_c0c5bad4_dc71_11ea_a204_4c32759fa703row8_col2 {\n",
       "            background-color:  #3b4cc0;\n",
       "            color:  #f1f1f1;\n",
       "        }    #T_c0c5bad4_dc71_11ea_a204_4c32759fa703row8_col3 {\n",
       "            background-color:  #5d7ce6;\n",
       "            color:  #000000;\n",
       "        }    #T_c0c5bad4_dc71_11ea_a204_4c32759fa703row8_col4 {\n",
       "            background-color:  #455cce;\n",
       "            color:  #f1f1f1;\n",
       "        }    #T_c0c5bad4_dc71_11ea_a204_4c32759fa703row8_col5 {\n",
       "            background-color:  #5a78e4;\n",
       "            color:  #000000;\n",
       "        }    #T_c0c5bad4_dc71_11ea_a204_4c32759fa703row8_col6 {\n",
       "            background-color:  #3b4cc0;\n",
       "            color:  #f1f1f1;\n",
       "        }    #T_c0c5bad4_dc71_11ea_a204_4c32759fa703row8_col7 {\n",
       "            background-color:  #3b4cc0;\n",
       "            color:  #f1f1f1;\n",
       "        }    #T_c0c5bad4_dc71_11ea_a204_4c32759fa703row8_col8 {\n",
       "            background-color:  #b40426;\n",
       "            color:  #f1f1f1;\n",
       "        }    #T_c0c5bad4_dc71_11ea_a204_4c32759fa703row8_col9 {\n",
       "            background-color:  #3b4cc0;\n",
       "            color:  #f1f1f1;\n",
       "        }    #T_c0c5bad4_dc71_11ea_a204_4c32759fa703row9_col0 {\n",
       "            background-color:  #445acc;\n",
       "            color:  #f1f1f1;\n",
       "        }    #T_c0c5bad4_dc71_11ea_a204_4c32759fa703row9_col1 {\n",
       "            background-color:  #5e7de7;\n",
       "            color:  #000000;\n",
       "        }    #T_c0c5bad4_dc71_11ea_a204_4c32759fa703row9_col2 {\n",
       "            background-color:  #485fd1;\n",
       "            color:  #f1f1f1;\n",
       "        }    #T_c0c5bad4_dc71_11ea_a204_4c32759fa703row9_col3 {\n",
       "            background-color:  #3b4cc0;\n",
       "            color:  #f1f1f1;\n",
       "        }    #T_c0c5bad4_dc71_11ea_a204_4c32759fa703row9_col4 {\n",
       "            background-color:  #3f53c6;\n",
       "            color:  #f1f1f1;\n",
       "        }    #T_c0c5bad4_dc71_11ea_a204_4c32759fa703row9_col5 {\n",
       "            background-color:  #3b4cc0;\n",
       "            color:  #f1f1f1;\n",
       "        }    #T_c0c5bad4_dc71_11ea_a204_4c32759fa703row9_col6 {\n",
       "            background-color:  #3f53c6;\n",
       "            color:  #f1f1f1;\n",
       "        }    #T_c0c5bad4_dc71_11ea_a204_4c32759fa703row9_col7 {\n",
       "            background-color:  #3f53c6;\n",
       "            color:  #f1f1f1;\n",
       "        }    #T_c0c5bad4_dc71_11ea_a204_4c32759fa703row9_col8 {\n",
       "            background-color:  #3b4cc0;\n",
       "            color:  #f1f1f1;\n",
       "        }    #T_c0c5bad4_dc71_11ea_a204_4c32759fa703row9_col9 {\n",
       "            background-color:  #b40426;\n",
       "            color:  #f1f1f1;\n",
       "        }</style><table id=\"T_c0c5bad4_dc71_11ea_a204_4c32759fa703\" ><thead>    <tr>        <th class=\"blank level0\" ></th>        <th class=\"col_heading level0 col0\" >age</th>        <th class=\"col_heading level0 col1\" >bmi</th>        <th class=\"col_heading level0 col2\" >children</th>        <th class=\"col_heading level0 col3\" >charges</th>        <th class=\"col_heading level0 col4\" >sex</th>        <th class=\"col_heading level0 col5\" >smoker</th>        <th class=\"col_heading level0 col6\" >region_northeast</th>        <th class=\"col_heading level0 col7\" >region_northwest</th>        <th class=\"col_heading level0 col8\" >region_southeast</th>        <th class=\"col_heading level0 col9\" >region_southwest</th>    </tr></thead><tbody>\n",
       "                <tr>\n",
       "                        <th id=\"T_c0c5bad4_dc71_11ea_a204_4c32759fa703level0_row0\" class=\"row_heading level0 row0\" >age</th>\n",
       "                        <td id=\"T_c0c5bad4_dc71_11ea_a204_4c32759fa703row0_col0\" class=\"data row0 col0\" >1.00</td>\n",
       "                        <td id=\"T_c0c5bad4_dc71_11ea_a204_4c32759fa703row0_col1\" class=\"data row0 col1\" >0.11</td>\n",
       "                        <td id=\"T_c0c5bad4_dc71_11ea_a204_4c32759fa703row0_col2\" class=\"data row0 col2\" >0.04</td>\n",
       "                        <td id=\"T_c0c5bad4_dc71_11ea_a204_4c32759fa703row0_col3\" class=\"data row0 col3\" >0.30</td>\n",
       "                        <td id=\"T_c0c5bad4_dc71_11ea_a204_4c32759fa703row0_col4\" class=\"data row0 col4\" >-0.02</td>\n",
       "                        <td id=\"T_c0c5bad4_dc71_11ea_a204_4c32759fa703row0_col5\" class=\"data row0 col5\" >-0.03</td>\n",
       "                        <td id=\"T_c0c5bad4_dc71_11ea_a204_4c32759fa703row0_col6\" class=\"data row0 col6\" >0.00</td>\n",
       "                        <td id=\"T_c0c5bad4_dc71_11ea_a204_4c32759fa703row0_col7\" class=\"data row0 col7\" >-0.00</td>\n",
       "                        <td id=\"T_c0c5bad4_dc71_11ea_a204_4c32759fa703row0_col8\" class=\"data row0 col8\" >-0.01</td>\n",
       "                        <td id=\"T_c0c5bad4_dc71_11ea_a204_4c32759fa703row0_col9\" class=\"data row0 col9\" >0.01</td>\n",
       "            </tr>\n",
       "            <tr>\n",
       "                        <th id=\"T_c0c5bad4_dc71_11ea_a204_4c32759fa703level0_row1\" class=\"row_heading level0 row1\" >bmi</th>\n",
       "                        <td id=\"T_c0c5bad4_dc71_11ea_a204_4c32759fa703row1_col0\" class=\"data row1 col0\" >0.11</td>\n",
       "                        <td id=\"T_c0c5bad4_dc71_11ea_a204_4c32759fa703row1_col1\" class=\"data row1 col1\" >1.00</td>\n",
       "                        <td id=\"T_c0c5bad4_dc71_11ea_a204_4c32759fa703row1_col2\" class=\"data row1 col2\" >0.01</td>\n",
       "                        <td id=\"T_c0c5bad4_dc71_11ea_a204_4c32759fa703row1_col3\" class=\"data row1 col3\" >0.20</td>\n",
       "                        <td id=\"T_c0c5bad4_dc71_11ea_a204_4c32759fa703row1_col4\" class=\"data row1 col4\" >0.05</td>\n",
       "                        <td id=\"T_c0c5bad4_dc71_11ea_a204_4c32759fa703row1_col5\" class=\"data row1 col5\" >0.00</td>\n",
       "                        <td id=\"T_c0c5bad4_dc71_11ea_a204_4c32759fa703row1_col6\" class=\"data row1 col6\" >-0.14</td>\n",
       "                        <td id=\"T_c0c5bad4_dc71_11ea_a204_4c32759fa703row1_col7\" class=\"data row1 col7\" >-0.14</td>\n",
       "                        <td id=\"T_c0c5bad4_dc71_11ea_a204_4c32759fa703row1_col8\" class=\"data row1 col8\" >0.27</td>\n",
       "                        <td id=\"T_c0c5bad4_dc71_11ea_a204_4c32759fa703row1_col9\" class=\"data row1 col9\" >-0.01</td>\n",
       "            </tr>\n",
       "            <tr>\n",
       "                        <th id=\"T_c0c5bad4_dc71_11ea_a204_4c32759fa703level0_row2\" class=\"row_heading level0 row2\" >children</th>\n",
       "                        <td id=\"T_c0c5bad4_dc71_11ea_a204_4c32759fa703row2_col0\" class=\"data row2 col0\" >0.04</td>\n",
       "                        <td id=\"T_c0c5bad4_dc71_11ea_a204_4c32759fa703row2_col1\" class=\"data row2 col1\" >0.01</td>\n",
       "                        <td id=\"T_c0c5bad4_dc71_11ea_a204_4c32759fa703row2_col2\" class=\"data row2 col2\" >1.00</td>\n",
       "                        <td id=\"T_c0c5bad4_dc71_11ea_a204_4c32759fa703row2_col3\" class=\"data row2 col3\" >0.07</td>\n",
       "                        <td id=\"T_c0c5bad4_dc71_11ea_a204_4c32759fa703row2_col4\" class=\"data row2 col4\" >0.02</td>\n",
       "                        <td id=\"T_c0c5bad4_dc71_11ea_a204_4c32759fa703row2_col5\" class=\"data row2 col5\" >0.01</td>\n",
       "                        <td id=\"T_c0c5bad4_dc71_11ea_a204_4c32759fa703row2_col6\" class=\"data row2 col6\" >-0.02</td>\n",
       "                        <td id=\"T_c0c5bad4_dc71_11ea_a204_4c32759fa703row2_col7\" class=\"data row2 col7\" >0.02</td>\n",
       "                        <td id=\"T_c0c5bad4_dc71_11ea_a204_4c32759fa703row2_col8\" class=\"data row2 col8\" >-0.02</td>\n",
       "                        <td id=\"T_c0c5bad4_dc71_11ea_a204_4c32759fa703row2_col9\" class=\"data row2 col9\" >0.02</td>\n",
       "            </tr>\n",
       "            <tr>\n",
       "                        <th id=\"T_c0c5bad4_dc71_11ea_a204_4c32759fa703level0_row3\" class=\"row_heading level0 row3\" >charges</th>\n",
       "                        <td id=\"T_c0c5bad4_dc71_11ea_a204_4c32759fa703row3_col0\" class=\"data row3 col0\" >0.30</td>\n",
       "                        <td id=\"T_c0c5bad4_dc71_11ea_a204_4c32759fa703row3_col1\" class=\"data row3 col1\" >0.20</td>\n",
       "                        <td id=\"T_c0c5bad4_dc71_11ea_a204_4c32759fa703row3_col2\" class=\"data row3 col2\" >0.07</td>\n",
       "                        <td id=\"T_c0c5bad4_dc71_11ea_a204_4c32759fa703row3_col3\" class=\"data row3 col3\" >1.00</td>\n",
       "                        <td id=\"T_c0c5bad4_dc71_11ea_a204_4c32759fa703row3_col4\" class=\"data row3 col4\" >0.06</td>\n",
       "                        <td id=\"T_c0c5bad4_dc71_11ea_a204_4c32759fa703row3_col5\" class=\"data row3 col5\" >0.79</td>\n",
       "                        <td id=\"T_c0c5bad4_dc71_11ea_a204_4c32759fa703row3_col6\" class=\"data row3 col6\" >0.01</td>\n",
       "                        <td id=\"T_c0c5bad4_dc71_11ea_a204_4c32759fa703row3_col7\" class=\"data row3 col7\" >-0.04</td>\n",
       "                        <td id=\"T_c0c5bad4_dc71_11ea_a204_4c32759fa703row3_col8\" class=\"data row3 col8\" >0.07</td>\n",
       "                        <td id=\"T_c0c5bad4_dc71_11ea_a204_4c32759fa703row3_col9\" class=\"data row3 col9\" >-0.04</td>\n",
       "            </tr>\n",
       "            <tr>\n",
       "                        <th id=\"T_c0c5bad4_dc71_11ea_a204_4c32759fa703level0_row4\" class=\"row_heading level0 row4\" >sex</th>\n",
       "                        <td id=\"T_c0c5bad4_dc71_11ea_a204_4c32759fa703row4_col0\" class=\"data row4 col0\" >-0.02</td>\n",
       "                        <td id=\"T_c0c5bad4_dc71_11ea_a204_4c32759fa703row4_col1\" class=\"data row4 col1\" >0.05</td>\n",
       "                        <td id=\"T_c0c5bad4_dc71_11ea_a204_4c32759fa703row4_col2\" class=\"data row4 col2\" >0.02</td>\n",
       "                        <td id=\"T_c0c5bad4_dc71_11ea_a204_4c32759fa703row4_col3\" class=\"data row4 col3\" >0.06</td>\n",
       "                        <td id=\"T_c0c5bad4_dc71_11ea_a204_4c32759fa703row4_col4\" class=\"data row4 col4\" >1.00</td>\n",
       "                        <td id=\"T_c0c5bad4_dc71_11ea_a204_4c32759fa703row4_col5\" class=\"data row4 col5\" >0.08</td>\n",
       "                        <td id=\"T_c0c5bad4_dc71_11ea_a204_4c32759fa703row4_col6\" class=\"data row4 col6\" >-0.00</td>\n",
       "                        <td id=\"T_c0c5bad4_dc71_11ea_a204_4c32759fa703row4_col7\" class=\"data row4 col7\" >-0.01</td>\n",
       "                        <td id=\"T_c0c5bad4_dc71_11ea_a204_4c32759fa703row4_col8\" class=\"data row4 col8\" >0.02</td>\n",
       "                        <td id=\"T_c0c5bad4_dc71_11ea_a204_4c32759fa703row4_col9\" class=\"data row4 col9\" >-0.00</td>\n",
       "            </tr>\n",
       "            <tr>\n",
       "                        <th id=\"T_c0c5bad4_dc71_11ea_a204_4c32759fa703level0_row5\" class=\"row_heading level0 row5\" >smoker</th>\n",
       "                        <td id=\"T_c0c5bad4_dc71_11ea_a204_4c32759fa703row5_col0\" class=\"data row5 col0\" >-0.03</td>\n",
       "                        <td id=\"T_c0c5bad4_dc71_11ea_a204_4c32759fa703row5_col1\" class=\"data row5 col1\" >0.00</td>\n",
       "                        <td id=\"T_c0c5bad4_dc71_11ea_a204_4c32759fa703row5_col2\" class=\"data row5 col2\" >0.01</td>\n",
       "                        <td id=\"T_c0c5bad4_dc71_11ea_a204_4c32759fa703row5_col3\" class=\"data row5 col3\" >0.79</td>\n",
       "                        <td id=\"T_c0c5bad4_dc71_11ea_a204_4c32759fa703row5_col4\" class=\"data row5 col4\" >0.08</td>\n",
       "                        <td id=\"T_c0c5bad4_dc71_11ea_a204_4c32759fa703row5_col5\" class=\"data row5 col5\" >1.00</td>\n",
       "                        <td id=\"T_c0c5bad4_dc71_11ea_a204_4c32759fa703row5_col6\" class=\"data row5 col6\" >0.00</td>\n",
       "                        <td id=\"T_c0c5bad4_dc71_11ea_a204_4c32759fa703row5_col7\" class=\"data row5 col7\" >-0.04</td>\n",
       "                        <td id=\"T_c0c5bad4_dc71_11ea_a204_4c32759fa703row5_col8\" class=\"data row5 col8\" >0.07</td>\n",
       "                        <td id=\"T_c0c5bad4_dc71_11ea_a204_4c32759fa703row5_col9\" class=\"data row5 col9\" >-0.04</td>\n",
       "            </tr>\n",
       "            <tr>\n",
       "                        <th id=\"T_c0c5bad4_dc71_11ea_a204_4c32759fa703level0_row6\" class=\"row_heading level0 row6\" >region_northeast</th>\n",
       "                        <td id=\"T_c0c5bad4_dc71_11ea_a204_4c32759fa703row6_col0\" class=\"data row6 col0\" >0.00</td>\n",
       "                        <td id=\"T_c0c5bad4_dc71_11ea_a204_4c32759fa703row6_col1\" class=\"data row6 col1\" >-0.14</td>\n",
       "                        <td id=\"T_c0c5bad4_dc71_11ea_a204_4c32759fa703row6_col2\" class=\"data row6 col2\" >-0.02</td>\n",
       "                        <td id=\"T_c0c5bad4_dc71_11ea_a204_4c32759fa703row6_col3\" class=\"data row6 col3\" >0.01</td>\n",
       "                        <td id=\"T_c0c5bad4_dc71_11ea_a204_4c32759fa703row6_col4\" class=\"data row6 col4\" >-0.00</td>\n",
       "                        <td id=\"T_c0c5bad4_dc71_11ea_a204_4c32759fa703row6_col5\" class=\"data row6 col5\" >0.00</td>\n",
       "                        <td id=\"T_c0c5bad4_dc71_11ea_a204_4c32759fa703row6_col6\" class=\"data row6 col6\" >1.00</td>\n",
       "                        <td id=\"T_c0c5bad4_dc71_11ea_a204_4c32759fa703row6_col7\" class=\"data row6 col7\" >-0.32</td>\n",
       "                        <td id=\"T_c0c5bad4_dc71_11ea_a204_4c32759fa703row6_col8\" class=\"data row6 col8\" >-0.35</td>\n",
       "                        <td id=\"T_c0c5bad4_dc71_11ea_a204_4c32759fa703row6_col9\" class=\"data row6 col9\" >-0.32</td>\n",
       "            </tr>\n",
       "            <tr>\n",
       "                        <th id=\"T_c0c5bad4_dc71_11ea_a204_4c32759fa703level0_row7\" class=\"row_heading level0 row7\" >region_northwest</th>\n",
       "                        <td id=\"T_c0c5bad4_dc71_11ea_a204_4c32759fa703row7_col0\" class=\"data row7 col0\" >-0.00</td>\n",
       "                        <td id=\"T_c0c5bad4_dc71_11ea_a204_4c32759fa703row7_col1\" class=\"data row7 col1\" >-0.14</td>\n",
       "                        <td id=\"T_c0c5bad4_dc71_11ea_a204_4c32759fa703row7_col2\" class=\"data row7 col2\" >0.02</td>\n",
       "                        <td id=\"T_c0c5bad4_dc71_11ea_a204_4c32759fa703row7_col3\" class=\"data row7 col3\" >-0.04</td>\n",
       "                        <td id=\"T_c0c5bad4_dc71_11ea_a204_4c32759fa703row7_col4\" class=\"data row7 col4\" >-0.01</td>\n",
       "                        <td id=\"T_c0c5bad4_dc71_11ea_a204_4c32759fa703row7_col5\" class=\"data row7 col5\" >-0.04</td>\n",
       "                        <td id=\"T_c0c5bad4_dc71_11ea_a204_4c32759fa703row7_col6\" class=\"data row7 col6\" >-0.32</td>\n",
       "                        <td id=\"T_c0c5bad4_dc71_11ea_a204_4c32759fa703row7_col7\" class=\"data row7 col7\" >1.00</td>\n",
       "                        <td id=\"T_c0c5bad4_dc71_11ea_a204_4c32759fa703row7_col8\" class=\"data row7 col8\" >-0.35</td>\n",
       "                        <td id=\"T_c0c5bad4_dc71_11ea_a204_4c32759fa703row7_col9\" class=\"data row7 col9\" >-0.32</td>\n",
       "            </tr>\n",
       "            <tr>\n",
       "                        <th id=\"T_c0c5bad4_dc71_11ea_a204_4c32759fa703level0_row8\" class=\"row_heading level0 row8\" >region_southeast</th>\n",
       "                        <td id=\"T_c0c5bad4_dc71_11ea_a204_4c32759fa703row8_col0\" class=\"data row8 col0\" >-0.01</td>\n",
       "                        <td id=\"T_c0c5bad4_dc71_11ea_a204_4c32759fa703row8_col1\" class=\"data row8 col1\" >0.27</td>\n",
       "                        <td id=\"T_c0c5bad4_dc71_11ea_a204_4c32759fa703row8_col2\" class=\"data row8 col2\" >-0.02</td>\n",
       "                        <td id=\"T_c0c5bad4_dc71_11ea_a204_4c32759fa703row8_col3\" class=\"data row8 col3\" >0.07</td>\n",
       "                        <td id=\"T_c0c5bad4_dc71_11ea_a204_4c32759fa703row8_col4\" class=\"data row8 col4\" >0.02</td>\n",
       "                        <td id=\"T_c0c5bad4_dc71_11ea_a204_4c32759fa703row8_col5\" class=\"data row8 col5\" >0.07</td>\n",
       "                        <td id=\"T_c0c5bad4_dc71_11ea_a204_4c32759fa703row8_col6\" class=\"data row8 col6\" >-0.35</td>\n",
       "                        <td id=\"T_c0c5bad4_dc71_11ea_a204_4c32759fa703row8_col7\" class=\"data row8 col7\" >-0.35</td>\n",
       "                        <td id=\"T_c0c5bad4_dc71_11ea_a204_4c32759fa703row8_col8\" class=\"data row8 col8\" >1.00</td>\n",
       "                        <td id=\"T_c0c5bad4_dc71_11ea_a204_4c32759fa703row8_col9\" class=\"data row8 col9\" >-0.35</td>\n",
       "            </tr>\n",
       "            <tr>\n",
       "                        <th id=\"T_c0c5bad4_dc71_11ea_a204_4c32759fa703level0_row9\" class=\"row_heading level0 row9\" >region_southwest</th>\n",
       "                        <td id=\"T_c0c5bad4_dc71_11ea_a204_4c32759fa703row9_col0\" class=\"data row9 col0\" >0.01</td>\n",
       "                        <td id=\"T_c0c5bad4_dc71_11ea_a204_4c32759fa703row9_col1\" class=\"data row9 col1\" >-0.01</td>\n",
       "                        <td id=\"T_c0c5bad4_dc71_11ea_a204_4c32759fa703row9_col2\" class=\"data row9 col2\" >0.02</td>\n",
       "                        <td id=\"T_c0c5bad4_dc71_11ea_a204_4c32759fa703row9_col3\" class=\"data row9 col3\" >-0.04</td>\n",
       "                        <td id=\"T_c0c5bad4_dc71_11ea_a204_4c32759fa703row9_col4\" class=\"data row9 col4\" >-0.00</td>\n",
       "                        <td id=\"T_c0c5bad4_dc71_11ea_a204_4c32759fa703row9_col5\" class=\"data row9 col5\" >-0.04</td>\n",
       "                        <td id=\"T_c0c5bad4_dc71_11ea_a204_4c32759fa703row9_col6\" class=\"data row9 col6\" >-0.32</td>\n",
       "                        <td id=\"T_c0c5bad4_dc71_11ea_a204_4c32759fa703row9_col7\" class=\"data row9 col7\" >-0.32</td>\n",
       "                        <td id=\"T_c0c5bad4_dc71_11ea_a204_4c32759fa703row9_col8\" class=\"data row9 col8\" >-0.35</td>\n",
       "                        <td id=\"T_c0c5bad4_dc71_11ea_a204_4c32759fa703row9_col9\" class=\"data row9 col9\" >1.00</td>\n",
       "            </tr>\n",
       "    </tbody></table>"
      ],
      "text/plain": [
       "<pandas.io.formats.style.Styler at 0x7f900c602c18>"
      ]
     },
     "execution_count": 17,
     "metadata": {},
     "output_type": "execute_result"
    }
   ],
   "source": [
    "data.corr().style.background_gradient(cmap='coolwarm')"
   ]
  },
  {
   "cell_type": "code",
   "execution_count": 18,
   "metadata": {},
   "outputs": [],
   "source": [
    "data.to_csv(\"data/insurance_preprocessed.csv\", index=False)"
   ]
  },
  {
   "cell_type": "code",
   "execution_count": null,
   "metadata": {},
   "outputs": [],
   "source": []
  }
 ],
 "metadata": {
  "kernelspec": {
   "display_name": "Python 3",
   "language": "python",
   "name": "python3"
  },
  "language_info": {
   "codemirror_mode": {
    "name": "ipython",
    "version": 3
   },
   "file_extension": ".py",
   "mimetype": "text/x-python",
   "name": "python",
   "nbconvert_exporter": "python",
   "pygments_lexer": "ipython3",
   "version": "3.7.3"
  },
  "toc": {
   "base_numbering": 1,
   "nav_menu": {},
   "number_sections": true,
   "sideBar": true,
   "skip_h1_title": true,
   "title_cell": "Table of Contents",
   "title_sidebar": "Contents",
   "toc_cell": false,
   "toc_position": {},
   "toc_section_display": true,
   "toc_window_display": false
  }
 },
 "nbformat": 4,
 "nbformat_minor": 4
}
