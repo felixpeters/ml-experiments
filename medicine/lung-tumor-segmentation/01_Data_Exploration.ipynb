{
 "cells": [
  {
   "cell_type": "markdown",
   "metadata": {},
   "source": [
    "# Data exploration & preprocessing"
   ]
  },
  {
   "cell_type": "markdown",
   "metadata": {},
   "source": [
    "This notebook enhances an [example](https://github.com/Project-MONAI/tutorials/blob/master/modules/3d_image_transforms.ipynb) from the monai tutorials repo with interactive visualization for CT scans.\n",
    "\n",
    "**Hint:** You might be required to run `jupyter nbextension enable --py widgetsnbextension` and restart the kernel in order to enable the JavaScript widgets in this notebook."
   ]
  },
  {
   "cell_type": "markdown",
   "metadata": {},
   "source": [
    "## Imports & configuration"
   ]
  },
  {
   "cell_type": "code",
   "execution_count": 39,
   "metadata": {},
   "outputs": [
    {
     "name": "stdout",
     "output_type": "stream",
     "text": [
      "MONAI version: 0.4.0\n",
      "Numpy version: 1.19.4\n",
      "Pytorch version: 1.7.1\n",
      "MONAI flags: HAS_EXT = False, USE_COMPILED = False\n",
      "MONAI rev id: 0563a4467fa602feca92d91c7f47261868d171a1\n",
      "\n",
      "Optional dependencies:\n",
      "Pytorch Ignite version: NOT INSTALLED or UNKNOWN VERSION.\n",
      "Nibabel version: 3.2.1\n",
      "scikit-image version: 0.18.0\n",
      "Pillow version: 8.0.1\n",
      "Tensorboard version: 2.4.0\n",
      "gdown version: NOT INSTALLED or UNKNOWN VERSION.\n",
      "TorchVision version: 0.8.2\n",
      "ITK version: NOT INSTALLED or UNKNOWN VERSION.\n",
      "tqdm version: 4.54.1\n",
      "lmdb version: NOT INSTALLED or UNKNOWN VERSION.\n",
      "psutil version: NOT INSTALLED or UNKNOWN VERSION.\n",
      "\n",
      "For details about installing the optional dependencies, please visit:\n",
      "    https://docs.monai.io/en/latest/installation.html#installing-the-recommended-dependencies\n",
      "\n"
     ]
    }
   ],
   "source": [
    "from pathlib import Path\n",
    "import glob\n",
    "\n",
    "import matplotlib.pyplot as plt\n",
    "import ipywidgets as widgets\n",
    "from ipywidgets import interact, fixed, interactive\n",
    "from IPython.display import display\n",
    "import numpy as np\n",
    "\n",
    "import torch\n",
    "from monai.apps import DecathlonDataset\n",
    "from monai.config import print_config\n",
    "from monai.transforms import (\n",
    "    LoadImage,\n",
    "    LoadImaged,\n",
    "    AddChanneld,\n",
    "    Spacingd,\n",
    "    Orientationd,\n",
    "    RandAffined,\n",
    "    Rand3DElasticd,\n",
    ")\n",
    "\n",
    "print_config()"
   ]
  },
  {
   "cell_type": "code",
   "execution_count": 2,
   "metadata": {},
   "outputs": [],
   "source": [
    "data_dir = Path().absolute().parents[1] / \"data/lung-tumor-segmentation/Task06_Lung\"\n",
    "if not data_dir.exists():\n",
    "    data_dir.mkdir()"
   ]
  },
  {
   "cell_type": "markdown",
   "metadata": {},
   "source": [
    "## Load data"
   ]
  },
  {
   "cell_type": "code",
   "execution_count": 3,
   "metadata": {},
   "outputs": [],
   "source": [
    "train_images = sorted(glob.glob(str(data_dir/\"imagesTr\"/\"*.nii.gz\")))\n",
    "train_labels = sorted(glob.glob(str(data_dir/\"labelsTr\"/\"*.nii.gz\")))\n",
    "data_dicts = [\n",
    "    {\"image\": image_name, \"label\": label_name} for image_name, label_name in zip(train_images, train_labels)\n",
    "]\n",
    "train_data_dicts = data_dicts"
   ]
  },
  {
   "cell_type": "code",
   "execution_count": 4,
   "metadata": {},
   "outputs": [
    {
     "data": {
      "text/plain": [
       "{'image': '/Users/felix/code/ml/ml-experiments/data/lung-tumor-segmentation/Task06_Lung/imagesTr/lung_001.nii.gz',\n",
       " 'label': '/Users/felix/code/ml/ml-experiments/data/lung-tumor-segmentation/Task06_Lung/labelsTr/lung_001.nii.gz'}"
      ]
     },
     "execution_count": 4,
     "metadata": {},
     "output_type": "execute_result"
    }
   ],
   "source": [
    "train_data_dicts[0]"
   ]
  },
  {
   "cell_type": "code",
   "execution_count": 5,
   "metadata": {},
   "outputs": [],
   "source": [
    "loader = LoadImage(dtype=np.float32)"
   ]
  },
  {
   "cell_type": "code",
   "execution_count": 6,
   "metadata": {},
   "outputs": [],
   "source": [
    "img, meta = loader(train_data_dicts[0][\"image\"])"
   ]
  },
  {
   "cell_type": "code",
   "execution_count": 7,
   "metadata": {},
   "outputs": [
    {
     "name": "stdout",
     "output_type": "stream",
     "text": [
      "input: /Users/felix/code/ml/ml-experiments/data/lung-tumor-segmentation/Task06_Lung/imagesTr/lung_001.nii.gz\n",
      "image shape: (512, 512, 304)\n",
      "image affine:\n",
      "[[  -0.69335938    0.            0.          182.15332031]\n",
      " [   0.            0.69335938    0.          -40.15332031]\n",
      " [   0.            0.            1.         -305.        ]\n",
      " [   0.            0.            0.            1.        ]]\n",
      "image pixdim:\n",
      "[-1.         0.6933594  0.6933594  1.         0.         0.\n",
      "  0.         0.       ]\n"
     ]
    }
   ],
   "source": [
    "print(f\"input: {train_data_dicts[0]['image']}\")\n",
    "print(f\"image shape: {img.shape}\")\n",
    "print(f\"image affine:\\n{meta['affine']}\")\n",
    "print(f\"image pixdim:\\n{meta['pixdim']}\")"
   ]
  },
  {
   "cell_type": "code",
   "execution_count": 8,
   "metadata": {},
   "outputs": [],
   "source": [
    "loader = LoadImaged(keys=(\"image\", \"label\"))"
   ]
  },
  {
   "cell_type": "code",
   "execution_count": 9,
   "metadata": {},
   "outputs": [
    {
     "name": "stdout",
     "output_type": "stream",
     "text": [
      "input:, {'image': '/Users/felix/code/ml/ml-experiments/data/lung-tumor-segmentation/Task06_Lung/imagesTr/lung_001.nii.gz', 'label': '/Users/felix/code/ml/ml-experiments/data/lung-tumor-segmentation/Task06_Lung/labelsTr/lung_001.nii.gz'}\n",
      "image shape: (512, 512, 304)\n",
      "label shape: (512, 512, 304)\n",
      "image pixdim:\n",
      "[-1.         0.6933594  0.6933594  1.         0.         0.\n",
      "  0.         0.       ]\n"
     ]
    }
   ],
   "source": [
    "data_dict = loader(train_data_dicts[0])\n",
    "print(f\"input:, {train_data_dicts[0]}\")\n",
    "print(f\"image shape: {data_dict['image'].shape}\")\n",
    "print(f\"label shape: {data_dict['label'].shape}\")\n",
    "print(f\"image pixdim:\\n{data_dict['image_meta_dict']['pixdim']}\")"
   ]
  },
  {
   "cell_type": "markdown",
   "metadata": {},
   "source": [
    "## Visualize CT images"
   ]
  },
  {
   "cell_type": "code",
   "execution_count": 10,
   "metadata": {},
   "outputs": [],
   "source": [
    "def plot_seg_image(image, label, dim, dim_val, separate_plots=False):\n",
    "    if isinstance(dim, str):\n",
    "        dim = [\"Width\", \"Height\", \"Depth\"].index(dim)\n",
    "    if separate_plots:\n",
    "        plt.figure(\"visualize\", (16, 8))\n",
    "        plt.subplot(1, 2, 1)\n",
    "        plt.title(\"image\")\n",
    "        plt.imshow(image.take(indices=dim_val, axis=dim), cmap=\"gray\")\n",
    "        plt.subplot(1, 2, 2)\n",
    "        plt.title(\"label\")\n",
    "        plt.imshow(label.take(indices=dim_val, axis=dim))\n",
    "    else:\n",
    "        plt.figure(\"visualize\", (8, 8))\n",
    "        plt.title(\"image & label\")\n",
    "        plt.imshow(image.take(indices=dim_val, axis=dim), cmap=\"gray\")\n",
    "        plt.imshow(label.take(indices=dim_val, axis=dim), alpha=0.3)\n",
    "    plt.show()"
   ]
  },
  {
   "cell_type": "code",
   "execution_count": 11,
   "metadata": {},
   "outputs": [
    {
     "data": {
      "application/vnd.jupyter.widget-view+json": {
       "model_id": "b6ca5afa94ee486eb67293ecdad58748",
       "version_major": 2,
       "version_minor": 0
      },
      "text/plain": [
       "HBox(children=(RadioButtons(description='Dimension: ', index=2, options=('Width', 'Height', 'Depth'), value='D…"
      ]
     },
     "metadata": {},
     "output_type": "display_data"
    },
    {
     "data": {
      "application/vnd.jupyter.widget-view+json": {
       "model_id": "45d136110520479895c635b201c2008d",
       "version_major": 2,
       "version_minor": 0
      },
      "text/plain": [
       "Output()"
      ]
     },
     "metadata": {},
     "output_type": "display_data"
    }
   ],
   "source": [
    "image, label = data_dict[\"image\"], data_dict[\"label\"]\n",
    "shape = image.shape\n",
    "\n",
    "dim = widgets.RadioButtons(options=['Width', 'Height', 'Depth'], value='Depth', description='Dimension: ', disabled=False)\n",
    "dim_val = widgets.IntSlider(value=0, max=(np.min(shape)-1), description=\"Level: \")\n",
    "separate_plots = widgets.Checkbox(value=False, description=\"Separate plots?\", disabled=False)\n",
    "\n",
    "def update_dim_val_range(*args):\n",
    "    if dim.value == 'Width':\n",
    "        dim_val.max = shape[0] - 1\n",
    "    elif dim.value == 'Height':\n",
    "        dim_val.max = shape[1] - 1\n",
    "    elif dim.value == 'Depth':\n",
    "        dim_val.max = shape[2] - 1\n",
    "dim.observe(update_dim_val_range, 'value')\n",
    "\n",
    "ui = widgets.HBox([dim, dim_val, separate_plots])\n",
    "\n",
    "out = widgets.interactive_output(plot_seg_image, {'dim': dim, \n",
    "                                                  'dim_val': dim_val, \n",
    "                                                  'separate_plots': separate_plots, \n",
    "                                                  'image': fixed(image), \n",
    "                                                  'label': fixed(label)})\n",
    "display(ui, out)"
   ]
  },
  {
   "cell_type": "markdown",
   "metadata": {},
   "source": [
    "## Standard transformations"
   ]
  },
  {
   "cell_type": "markdown",
   "metadata": {},
   "source": [
    "### Add channel dimension"
   ]
  },
  {
   "cell_type": "code",
   "execution_count": 16,
   "metadata": {},
   "outputs": [
    {
     "name": "stdout",
     "output_type": "stream",
     "text": [
      "image shape: (1, 512, 512, 304)\n"
     ]
    }
   ],
   "source": [
    "add_channel = AddChanneld(keys=[\"image\", \"label\"])\n",
    "datac_dict = add_channel(data_dict)\n",
    "print(f\"image shape: {datac_dict['image'].shape}\")"
   ]
  },
  {
   "cell_type": "markdown",
   "metadata": {},
   "source": [
    "### Resample to consistent voxel size"
   ]
  },
  {
   "cell_type": "code",
   "execution_count": 19,
   "metadata": {},
   "outputs": [
    {
     "name": "stdout",
     "output_type": "stream",
     "text": [
      "image affine before spacing:\n",
      "[[  -0.69335938    0.            0.          182.15332031]\n",
      " [   0.            0.69335938    0.          -40.15332031]\n",
      " [   0.            0.            1.         -305.        ]\n",
      " [   0.            0.            0.            1.        ]]\n"
     ]
    }
   ],
   "source": [
    "print(f\"image affine before spacing:\\n{data_dict['image_meta_dict']['affine']}\")"
   ]
  },
  {
   "cell_type": "code",
   "execution_count": 22,
   "metadata": {},
   "outputs": [],
   "source": [
    "spacing = Spacingd(keys=[\"image\", \"label\"], pixdim=(1.5, 1.5, 5.0), mode=(\"bilinear\", \"nearest\"))"
   ]
  },
  {
   "cell_type": "code",
   "execution_count": 23,
   "metadata": {},
   "outputs": [
    {
     "name": "stdout",
     "output_type": "stream",
     "text": [
      "image shape: (1, 237, 237, 62)\n",
      "image affine after spacing:\n",
      "[[  -1.5           0.            0.          182.15332031]\n",
      " [   0.            1.5           0.          -40.15332031]\n",
      " [   0.            0.            5.         -305.        ]\n",
      " [   0.            0.            0.            1.        ]]\n"
     ]
    }
   ],
   "source": [
    "datac_dict = spacing(datac_dict)\n",
    "print(f\"image shape: {datac_dict['image'].shape}\")\n",
    "print(f\"image affine after spacing:\\n{datac_dict['image_meta_dict']['affine']}\")"
   ]
  },
  {
   "cell_type": "code",
   "execution_count": 28,
   "metadata": {},
   "outputs": [
    {
     "data": {
      "application/vnd.jupyter.widget-view+json": {
       "model_id": "88cbff7733df4f8696a9c86050172dd1",
       "version_major": 2,
       "version_minor": 0
      },
      "text/plain": [
       "HBox(children=(RadioButtons(description='Dimension: ', index=2, options=('Width', 'Height', 'Depth'), value='D…"
      ]
     },
     "metadata": {},
     "output_type": "display_data"
    },
    {
     "data": {
      "application/vnd.jupyter.widget-view+json": {
       "model_id": "3a50d660d65f45f38473bb72f00f1022",
       "version_major": 2,
       "version_minor": 0
      },
      "text/plain": [
       "Output()"
      ]
     },
     "metadata": {},
     "output_type": "display_data"
    }
   ],
   "source": [
    "image, label = datac_dict[\"image\"].squeeze(), datac_dict[\"label\"].squeeze()\n",
    "shape = image.shape\n",
    "\n",
    "dim = widgets.RadioButtons(options=['Width', 'Height', 'Depth'], value='Depth', description='Dimension: ', disabled=False)\n",
    "dim_val = widgets.IntSlider(value=0, max=(np.min(shape)-1), description=\"Level: \", continuous_update=False)\n",
    "separate_plots = widgets.Checkbox(value=False, description=\"Separate plots?\", disabled=False)\n",
    "\n",
    "def update_dim_val_range(*args):\n",
    "    if dim.value == 'Width':\n",
    "        dim_val.max = shape[0] - 1\n",
    "    elif dim.value == 'Height':\n",
    "        dim_val.max = shape[1] - 1\n",
    "    elif dim.value == 'Depth':\n",
    "        dim_val.max = shape[2] - 1\n",
    "dim.observe(update_dim_val_range, 'value')\n",
    "\n",
    "ui = widgets.HBox([dim, dim_val, separate_plots])\n",
    "\n",
    "out = widgets.interactive_output(plot_seg_image, {'dim': dim, \n",
    "                                                  'dim_val': dim_val, \n",
    "                                                  'separate_plots': separate_plots, \n",
    "                                                  'image': fixed(image), \n",
    "                                                  'label': fixed(label)})\n",
    "display(ui, out)"
   ]
  },
  {
   "cell_type": "markdown",
   "metadata": {},
   "source": [
    "### Reorient to designated axes codes"
   ]
  },
  {
   "cell_type": "code",
   "execution_count": 30,
   "metadata": {},
   "outputs": [],
   "source": [
    "orientation = Orientationd(keys=[\"image\", \"label\"], axcodes=\"PLI\")"
   ]
  },
  {
   "cell_type": "code",
   "execution_count": 31,
   "metadata": {},
   "outputs": [
    {
     "name": "stdout",
     "output_type": "stream",
     "text": [
      "image shape: (1, 237, 237, 62)\n",
      "image affine after orientation:\n",
      "[[  0.          -1.5          0.         182.15332031]\n",
      " [ -1.5          0.           0.         313.84667969]\n",
      " [  0.           0.          -5.           0.        ]\n",
      " [  0.           0.           0.           1.        ]]\n"
     ]
    }
   ],
   "source": [
    "data_dict = orientation(datac_dict)\n",
    "print(f\"image shape: {data_dict['image'].shape}\")\n",
    "print(f\"image affine after orientation:\\n{data_dict['image_meta_dict']['affine']}\")"
   ]
  },
  {
   "cell_type": "code",
   "execution_count": 32,
   "metadata": {},
   "outputs": [
    {
     "data": {
      "application/vnd.jupyter.widget-view+json": {
       "model_id": "af759e2f5a2d49a690ea97967dc98874",
       "version_major": 2,
       "version_minor": 0
      },
      "text/plain": [
       "HBox(children=(RadioButtons(description='Dimension: ', index=2, options=('Width', 'Height', 'Depth'), value='D…"
      ]
     },
     "metadata": {},
     "output_type": "display_data"
    },
    {
     "data": {
      "application/vnd.jupyter.widget-view+json": {
       "model_id": "2bc0eaa5e25d402b9f8b31cfa9484235",
       "version_major": 2,
       "version_minor": 0
      },
      "text/plain": [
       "Output()"
      ]
     },
     "metadata": {},
     "output_type": "display_data"
    }
   ],
   "source": [
    "image, label = data_dict[\"image\"].squeeze(), data_dict[\"label\"].squeeze()\n",
    "shape = image.shape\n",
    "\n",
    "dim = widgets.RadioButtons(options=['Width', 'Height', 'Depth'], value='Depth', description='Dimension: ', disabled=False)\n",
    "dim_val = widgets.IntSlider(value=0, max=(np.min(shape)-1), description=\"Level: \", continuous_update=False)\n",
    "separate_plots = widgets.Checkbox(value=False, description=\"Separate plots?\", disabled=False)\n",
    "\n",
    "def update_dim_val_range(*args):\n",
    "    if dim.value == 'Width':\n",
    "        dim_val.max = shape[0] - 1\n",
    "    elif dim.value == 'Height':\n",
    "        dim_val.max = shape[1] - 1\n",
    "    elif dim.value == 'Depth':\n",
    "        dim_val.max = shape[2] - 1\n",
    "dim.observe(update_dim_val_range, 'value')\n",
    "\n",
    "ui = widgets.HBox([dim, dim_val, separate_plots])\n",
    "\n",
    "out = widgets.interactive_output(plot_seg_image, {'dim': dim, \n",
    "                                                  'dim_val': dim_val, \n",
    "                                                  'separate_plots': separate_plots, \n",
    "                                                  'image': fixed(image), \n",
    "                                                  'label': fixed(label)})\n",
    "display(ui, out)"
   ]
  },
  {
   "cell_type": "markdown",
   "metadata": {},
   "source": [
    "## Random transformations"
   ]
  },
  {
   "cell_type": "markdown",
   "metadata": {},
   "source": [
    "### Apply random affine transformation"
   ]
  },
  {
   "cell_type": "code",
   "execution_count": 34,
   "metadata": {},
   "outputs": [],
   "source": [
    "rand_affine = RandAffined(\n",
    "    keys=[\"image\", \"label\"],\n",
    "    mode=(\"bilinear\", \"nearest\"),\n",
    "    prob=1.0,\n",
    "    spatial_size=(224, 224, 55),\n",
    "    translate_range=(40, 40, 2),\n",
    "    rotate_range=(np.pi / 36, np.pi / 36, np.pi / 4),\n",
    "    scale_range=(0.15, 0.15, 0.15),\n",
    "    padding_mode=\"border\",\n",
    ")"
   ]
  },
  {
   "cell_type": "code",
   "execution_count": 37,
   "metadata": {},
   "outputs": [
    {
     "name": "stdout",
     "output_type": "stream",
     "text": [
      "image shape: torch.Size([1, 224, 224, 55])\n"
     ]
    }
   ],
   "source": [
    "affined_data_dict = rand_affine(data_dict)\n",
    "print(f\"image shape: {affined_data_dict['image'].shape}\")"
   ]
  },
  {
   "cell_type": "code",
   "execution_count": 38,
   "metadata": {},
   "outputs": [
    {
     "data": {
      "application/vnd.jupyter.widget-view+json": {
       "model_id": "4c8ea985fcc646ccaaaad3de68be9736",
       "version_major": 2,
       "version_minor": 0
      },
      "text/plain": [
       "HBox(children=(RadioButtons(description='Dimension: ', index=2, options=('Width', 'Height', 'Depth'), value='D…"
      ]
     },
     "metadata": {},
     "output_type": "display_data"
    },
    {
     "data": {
      "application/vnd.jupyter.widget-view+json": {
       "model_id": "75e4ad0437d743afbd8b572fc4d51131",
       "version_major": 2,
       "version_minor": 0
      },
      "text/plain": [
       "Output()"
      ]
     },
     "metadata": {},
     "output_type": "display_data"
    }
   ],
   "source": [
    "image, label = affined_data_dict[\"image\"].squeeze().numpy(), affined_data_dict[\"label\"].squeeze().numpy()\n",
    "shape = image.shape\n",
    "\n",
    "dim = widgets.RadioButtons(options=['Width', 'Height', 'Depth'], value='Depth', description='Dimension: ', disabled=False)\n",
    "dim_val = widgets.IntSlider(value=0, max=(np.min(shape)-1), description=\"Level: \", continuous_update=False)\n",
    "separate_plots = widgets.Checkbox(value=False, description=\"Separate plots?\", disabled=False)\n",
    "\n",
    "def update_dim_val_range(*args):\n",
    "    if dim.value == 'Width':\n",
    "        dim_val.max = shape[0] - 1\n",
    "    elif dim.value == 'Height':\n",
    "        dim_val.max = shape[1] - 1\n",
    "    elif dim.value == 'Depth':\n",
    "        dim_val.max = shape[2] - 1\n",
    "dim.observe(update_dim_val_range, 'value')\n",
    "\n",
    "ui = widgets.HBox([dim, dim_val, separate_plots])\n",
    "\n",
    "out = widgets.interactive_output(plot_seg_image, {'dim': dim, \n",
    "                                                  'dim_val': dim_val, \n",
    "                                                  'separate_plots': separate_plots, \n",
    "                                                  'image': fixed(image), \n",
    "                                                  'label': fixed(label)})\n",
    "display(ui, out)"
   ]
  },
  {
   "cell_type": "markdown",
   "metadata": {},
   "source": [
    "### Apply random elastic deformation"
   ]
  },
  {
   "cell_type": "code",
   "execution_count": 40,
   "metadata": {},
   "outputs": [],
   "source": [
    "rand_elastic = Rand3DElasticd(\n",
    "    keys=[\"image\", \"label\"],\n",
    "    mode=(\"bilinear\", \"nearest\"),\n",
    "    prob=1.0,\n",
    "    sigma_range=(5, 8),\n",
    "    magnitude_range=(100, 200),\n",
    "    spatial_size=(224, 224, 20),\n",
    "    translate_range=(50, 50, 2),\n",
    "    rotate_range=(np.pi / 36, np.pi / 36, np.pi),\n",
    "    scale_range=(0.15, 0.15, 0.15),\n",
    "    padding_mode=\"border\",\n",
    ")"
   ]
  },
  {
   "cell_type": "code",
   "execution_count": 41,
   "metadata": {},
   "outputs": [
    {
     "name": "stdout",
     "output_type": "stream",
     "text": [
      "image shape: (1, 224, 224, 20)\n"
     ]
    }
   ],
   "source": [
    "deformed_data_dict = rand_elastic(data_dict)\n",
    "print(f\"image shape: {deformed_data_dict['image'].shape}\")"
   ]
  },
  {
   "cell_type": "code",
   "execution_count": 42,
   "metadata": {},
   "outputs": [
    {
     "data": {
      "application/vnd.jupyter.widget-view+json": {
       "model_id": "8cc15e4a4ed3416fa26b603287f55222",
       "version_major": 2,
       "version_minor": 0
      },
      "text/plain": [
       "HBox(children=(RadioButtons(description='Dimension: ', index=2, options=('Width', 'Height', 'Depth'), value='D…"
      ]
     },
     "metadata": {},
     "output_type": "display_data"
    },
    {
     "data": {
      "application/vnd.jupyter.widget-view+json": {
       "model_id": "0d31b6e371e04b8e8ee57e4f4f9d3429",
       "version_major": 2,
       "version_minor": 0
      },
      "text/plain": [
       "Output()"
      ]
     },
     "metadata": {},
     "output_type": "display_data"
    }
   ],
   "source": [
    "image, label = deformed_data_dict[\"image\"].squeeze(), deformed_data_dict[\"label\"].squeeze()\n",
    "shape = image.shape\n",
    "\n",
    "dim = widgets.RadioButtons(options=['Width', 'Height', 'Depth'], value='Depth', description='Dimension: ', disabled=False)\n",
    "dim_val = widgets.IntSlider(value=0, max=(np.min(shape)-1), description=\"Level: \", continuous_update=False)\n",
    "separate_plots = widgets.Checkbox(value=False, description=\"Separate plots?\", disabled=False)\n",
    "\n",
    "def update_dim_val_range(*args):\n",
    "    if dim.value == 'Width':\n",
    "        dim_val.max = shape[0] - 1\n",
    "    elif dim.value == 'Height':\n",
    "        dim_val.max = shape[1] - 1\n",
    "    elif dim.value == 'Depth':\n",
    "        dim_val.max = shape[2] - 1\n",
    "dim.observe(update_dim_val_range, 'value')\n",
    "\n",
    "ui = widgets.HBox([dim, dim_val, separate_plots])\n",
    "\n",
    "out = widgets.interactive_output(plot_seg_image, {'dim': dim, \n",
    "                                                  'dim_val': dim_val, \n",
    "                                                  'separate_plots': separate_plots, \n",
    "                                                  'image': fixed(image), \n",
    "                                                  'label': fixed(label)})\n",
    "display(ui, out)"
   ]
  },
  {
   "cell_type": "code",
   "execution_count": null,
   "metadata": {},
   "outputs": [],
   "source": []
  }
 ],
 "metadata": {
  "kernelspec": {
   "display_name": "Python 3",
   "language": "python",
   "name": "python3"
  },
  "language_info": {
   "codemirror_mode": {
    "name": "ipython",
    "version": 3
   },
   "file_extension": ".py",
   "mimetype": "text/x-python",
   "name": "python",
   "nbconvert_exporter": "python",
   "pygments_lexer": "ipython3",
   "version": "3.8.5"
  },
  "toc": {
   "base_numbering": 1,
   "nav_menu": {},
   "number_sections": true,
   "sideBar": true,
   "skip_h1_title": true,
   "title_cell": "Table of Contents",
   "title_sidebar": "Contents",
   "toc_cell": false,
   "toc_position": {},
   "toc_section_display": true,
   "toc_window_display": false
  }
 },
 "nbformat": 4,
 "nbformat_minor": 4
}
